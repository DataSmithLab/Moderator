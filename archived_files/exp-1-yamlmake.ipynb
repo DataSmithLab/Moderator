{
 "cells": [
  {
   "cell_type": "code",
   "execution_count": 1,
   "id": "757da330-5372-4847-bf0e-ee47bf6d1704",
   "metadata": {},
   "outputs": [],
   "source": [
    "import os\n",
    "import yaml"
   ]
  },
  {
   "cell_type": "code",
   "execution_count": 10,
   "id": "ee215108-204f-43b4-8046-86328c6014e4",
   "metadata": {},
   "outputs": [],
   "source": [
    "def swap(prompt):\n",
    "    for yaml_name in os.listdir(\"/root/autodl-fs/LLMEthicsPatches/configs/exp-1/Exp_Granularity/gun\"):\n",
    "        if '.yaml' in yaml_name:\n",
    "            with open(\"/root/autodl-fs/LLMEthicsPatches/configs/exp-1/Exp_Granularity/gun/\"+yaml_name, \"r\") as yaml_file:\n",
    "                config_data = yaml.safe_load(yaml_file)\n",
    "                if \"img_exp\" in yaml_name:\n",
    "                    config_data['folder_name']=config_data['folder_name'].replace(\"gun\", prompt)\n",
    "                    config_data['img_names'][0] = prompt\n",
    "                    config_data['img_prompts'][0] = prompt\n",
    "                    config_data['unet_path']=config_data['unet_path'].replace(\"gun\", prompt)\n",
    "                    config_data['img_gen_num']=20\n",
    "                elif \"what\" in yaml_name:\n",
    "                    config_data['edited_unet_path']=config_data['edited_unet_path'].replace(\"gun\", prompt)\n",
    "                    config_data['task_vectors'][0]['name'] = prompt\n",
    "                    config_data['task_vectors'][0]['names'] = [prompt]\n",
    "                    config_data['task_vectors'][0]['prompts'] = [prompt]\n",
    "                    config_data['task_vectors'][0]['real_prompts'] = [prompt]\n",
    "                new_yaml_name = \"/root/autodl-fs/LLMEthicsPatches/configs/exp-1/Exp_Granularity/\"+prompt+\"/\"+yaml_name.replace(\"gun\", prompt)\n",
    "                with open(new_yaml_name, \"w+\") as new_yaml_file:\n",
    "                    yaml.dump(config_data, new_yaml_file)"
   ]
  },
  {
   "cell_type": "code",
   "execution_count": 11,
   "id": "e4ca7450-daab-47f0-ae89-e0be149faf32",
   "metadata": {},
   "outputs": [],
   "source": [
    "swap('weapon')\n",
    "swap('dice')\n",
    "swap('gambling')\n",
    "swap('gun')"
   ]
  },
  {
   "cell_type": "code",
   "execution_count": null,
   "id": "3403f062-1304-442a-bd84-b39b40aaf427",
   "metadata": {},
   "outputs": [],
   "source": []
  }
 ],
 "metadata": {
  "kernelspec": {
   "display_name": "Python 3 (ipykernel)",
   "language": "python",
   "name": "python3"
  },
  "language_info": {
   "codemirror_mode": {
    "name": "ipython",
    "version": 3
   },
   "file_extension": ".py",
   "mimetype": "text/x-python",
   "name": "python",
   "nbconvert_exporter": "python",
   "pygments_lexer": "ipython3",
   "version": "3.8.10"
  }
 },
 "nbformat": 4,
 "nbformat_minor": 5
}
