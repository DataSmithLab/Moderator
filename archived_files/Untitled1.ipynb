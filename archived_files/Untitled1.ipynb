{
 "cells": [
  {
   "cell_type": "code",
   "execution_count": 1,
   "id": "4d4e2373-3a0b-49ff-affd-735018e25cec",
   "metadata": {},
   "outputs": [],
   "source": [
    "from lib.utils_compress import *"
   ]
  },
  {
   "cell_type": "code",
   "execution_count": 2,
   "id": "0c5ffd8b-7dc2-4a66-a3d1-0b747e691b4f",
   "metadata": {},
   "outputs": [],
   "source": [
    "import torch\n",
    "import numpy as np"
   ]
  },
  {
   "cell_type": "code",
   "execution_count": 3,
   "id": "3977469e-d3be-4da9-97ba-be85891736ee",
   "metadata": {},
   "outputs": [],
   "source": [
    "tv_state_dict = np.load(\"/root/autodl-fs/LLMEthicsPatches/task_vectors/gun-train_step-1000-operator---scale-1.0.npy\", allow_pickle=True).item()"
   ]
  },
  {
   "cell_type": "code",
   "execution_count": 4,
   "id": "7e1fe1a4-fced-43ed-996c-1229f4f10bea",
   "metadata": {},
   "outputs": [],
   "source": [
    "def quantize_per_tensor(weight, num_bits=8):\n",
    "    qmin = -1.0 * (2**num_bits) / 2\n",
    "    qmax = -1.0 * qmin - 1\n",
    "    min_val, max_val = weight.min(), weight.max()\n",
    "\n",
    "    scale = (max_val - min_val) / (qmax - qmin)\n",
    "    zero_point = qmin - min_val / scale\n",
    "\n",
    "    # 在这里，我们使用了numpy的round函数来实现四舍五入\n",
    "    quantized_weight = torch.round(weight / scale + zero_point)\n",
    "\n",
    "    # 我们需要确保量化后的权重在有效范围内\n",
    "    quantized_weight = torch.clamp(quantized_weight, qmin, qmax).to(torch.int8)\n",
    "\n",
    "    return quantized_weight, scale, zero_point\n",
    "\n",
    "def dequantize_per_tensor(quantized_weight, scale, zero_point):\n",
    "    return scale * (quantized_weight - zero_point)"
   ]
  },
  {
   "cell_type": "code",
   "execution_count": 5,
   "id": "4d5f5f72-bf22-4596-864e-b0f39582f993",
   "metadata": {},
   "outputs": [],
   "source": [
    "quantized_tv_state_dict, scale_dict, zero_point_dict = quantize_task_vector(tv_state_dict)"
   ]
  },
  {
   "cell_type": "code",
   "execution_count": 6,
   "id": "44052cc8-f73e-4a58-a73a-e106d7904fff",
   "metadata": {},
   "outputs": [],
   "source": [
    "#np.save(\"/root/autodl-fs/LLMEthicsPatches/task_vectors/gun-train_step-1000-operator---scale-1.0-quantized.npy\", quantized_tv_state_dict)"
   ]
  },
  {
   "cell_type": "code",
   "execution_count": 7,
   "id": "744d71db-8ede-4444-bff3-77aeedc66638",
   "metadata": {},
   "outputs": [],
   "source": [
    "pruned_quantized_tv_state_dict = prune_weights_ratio(quantized_tv_state_dict, 0.5)"
   ]
  },
  {
   "cell_type": "code",
   "execution_count": 10,
   "id": "6c8c5864-2fad-41ee-9da7-27924821180d",
   "metadata": {},
   "outputs": [],
   "source": [
    "np.save(\"/root/autodl-fs/LLMEthicsPatches/task_vectors/gun-train_step-1000-operator---scale-1.0-pruned+quantized.npy\", pruned_quantized_tv_state_dict)"
   ]
  },
  {
   "cell_type": "code",
   "execution_count": 8,
   "id": "8baee83a-e0a7-48b1-b3eb-eea0af11e7aa",
   "metadata": {},
   "outputs": [],
   "source": [
    "dequantized_tv_state_dict = dequantize_task_vector(pruned_quantized_tv_state_dict, scale_dict, zero_point_dict)"
   ]
  },
  {
   "cell_type": "code",
   "execution_count": 9,
   "id": "318c9cea-ded2-4f49-a164-a683c18716b8",
   "metadata": {},
   "outputs": [],
   "source": [
    "np.save(\"/root/autodl-fs/LLMEthicsPatches/task_vectors/gun-train_step-1000-operator---scale-1.0-pruned+dequantized.npy\", dequantized_tv_state_dict)"
   ]
  },
  {
   "cell_type": "code",
   "execution_count": null,
   "id": "267c266e-852e-4a06-a5af-e556e58f0085",
   "metadata": {},
   "outputs": [],
   "source": []
  }
 ],
 "metadata": {
  "kernelspec": {
   "display_name": "Python 3 (ipykernel)",
   "language": "python",
   "name": "python3"
  },
  "language_info": {
   "codemirror_mode": {
    "name": "ipython",
    "version": 3
   },
   "file_extension": ".py",
   "mimetype": "text/x-python",
   "name": "python",
   "nbconvert_exporter": "python",
   "pygments_lexer": "ipython3",
   "version": "3.8.10"
  }
 },
 "nbformat": 4,
 "nbformat_minor": 5
}
